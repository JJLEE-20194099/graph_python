{
 "cells": [
  {
   "cell_type": "code",
   "execution_count": 1,
   "metadata": {},
   "outputs": [],
   "source": [
    "import networkx as nx\n",
    "G = nx.Graph()"
   ]
  },
  {
   "cell_type": "code",
   "execution_count": 2,
   "metadata": {},
   "outputs": [],
   "source": [
    "G.add_weighted_edges_from([(1, 2, 0.125), (1, 3, 0.75), (2, 4, 1.2), (3, 4, 0.375)])"
   ]
  },
  {
   "cell_type": "code",
   "execution_count": 8,
   "metadata": {},
   "outputs": [
    {
     "name": "stdout",
     "output_type": "stream",
     "text": [
      "2\n",
      "{'weight': 0.125}\n",
      "----\n",
      "3\n",
      "{'weight': 0.75}\n",
      "----\n",
      "1\n",
      "{'weight': 0.125}\n",
      "----\n",
      "4\n",
      "{'weight': 1.2}\n",
      "----\n",
      "1\n",
      "{'weight': 0.75}\n",
      "----\n",
      "4\n",
      "{'weight': 0.375}\n",
      "----\n",
      "2\n",
      "{'weight': 1.2}\n",
      "----\n",
      "3\n",
      "{'weight': 0.375}\n",
      "----\n"
     ]
    }
   ],
   "source": [
    "for node, adj in G.adj.items():\n",
    "    for adj, eatrr in adj.items():\n",
    "        print(adj)\n",
    "        print(eatrr)\n",
    "        print(\"----\")\n"
   ]
  },
  {
   "cell_type": "code",
   "execution_count": 9,
   "metadata": {},
   "outputs": [
    {
     "name": "stdout",
     "output_type": "stream",
     "text": [
      "1 2 0.125\n",
      "1 3 0.75\n",
      "2 4 1.2\n",
      "3 4 0.375\n"
     ]
    }
   ],
   "source": [
    "for u, v, wt in G.edges.data('weight'):\n",
    "    print(u, v, wt)"
   ]
  }
 ],
 "metadata": {
  "interpreter": {
   "hash": "ac59ebe37160ed0dfa835113d9b8498d9f09ceb179beaac4002f036b9467c963"
  },
  "kernelspec": {
   "display_name": "Python 3.9.7 64-bit",
   "language": "python",
   "name": "python3"
  },
  "language_info": {
   "codemirror_mode": {
    "name": "ipython",
    "version": 3
   },
   "file_extension": ".py",
   "mimetype": "text/x-python",
   "name": "python",
   "nbconvert_exporter": "python",
   "pygments_lexer": "ipython3",
   "version": "3.9.7"
  },
  "orig_nbformat": 4
 },
 "nbformat": 4,
 "nbformat_minor": 2
}
